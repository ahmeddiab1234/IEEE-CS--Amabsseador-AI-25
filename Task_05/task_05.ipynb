{
 "cells": [
  {
   "cell_type": "code",
   "execution_count": null,
   "id": "4ad38916",
   "metadata": {},
   "outputs": [
    {
     "name": "stdout",
     "output_type": "stream",
     "text": [
      "{1: 0.3, 2: 0.2, 3: 0.2, 4: 0.2, 5: 0.1}\n"
     ]
    }
   ],
   "source": [
    "# problem 1\n",
    "\n",
    "dct = {}\n",
    "prob = {}\n",
    "lst = [1,2,3,4,5,1,2,3,4,1]\n",
    "\n",
    "for v in lst:\n",
    "    if v not in dct:\n",
    "        dct[v]=1\n",
    "    else:\n",
    "        dct[v]+=1\n",
    "\n",
    "for key,val in dct.items():\n",
    "    prob[key] = val/len(lst)\n",
    "print(prob)\n",
    "\n"
   ]
  },
  {
   "cell_type": "code",
   "execution_count": 2,
   "metadata": {},
   "outputs": [
    {
     "name": "stdout",
     "output_type": "stream",
     "text": [
      "2/3\n"
     ]
    }
   ],
   "source": [
    "# problem 2\n",
    "\n",
    "event_a = [1, 0, 1, 0, 1]\n",
    "event_b = [1, 1, 0, 0, 1]\n",
    "\n",
    "event_aUb = 0\n",
    "for i,j in zip(event_a,event_b):\n",
    "    if i== j == 1:\n",
    "        event_aUb+=1\n",
    "\n",
    "print(f'{event_aUb}/{sum(event_a)}')\n"
   ]
  },
  {
   "cell_type": "code",
   "execution_count": null,
   "metadata": {},
   "outputs": [],
   "source": []
  }
 ],
 "metadata": {
  "kernelspec": {
   "display_name": "Python 3",
   "language": "python",
   "name": "python3"
  },
  "language_info": {
   "codemirror_mode": {
    "name": "ipython",
    "version": 3
   },
   "file_extension": ".py",
   "mimetype": "text/x-python",
   "name": "python",
   "nbconvert_exporter": "python",
   "pygments_lexer": "ipython3",
   "version": "3.13.0"
  }
 },
 "nbformat": 4,
 "nbformat_minor": 5
}
