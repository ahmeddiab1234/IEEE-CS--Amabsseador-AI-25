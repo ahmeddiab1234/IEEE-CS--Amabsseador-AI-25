{
 "cells": [
  {
   "cell_type": "markdown",
   "id": "88c981b1",
   "metadata": {},
   "source": [
    "1. Create a 3x3 array that contains a diagonal of nines.\n"
   ]
  },
  {
   "cell_type": "code",
   "execution_count": 1,
   "id": "5247d9de",
   "metadata": {},
   "outputs": [
    {
     "name": "stdout",
     "output_type": "stream",
     "text": [
      "[[9. 0. 0.]\n",
      " [0. 9. 0.]\n",
      " [0. 0. 9.]]\n"
     ]
    }
   ],
   "source": [
    "import numpy as np\n",
    "\n",
    "fun = np.identity(3)*9\n",
    "print(fun)"
   ]
  },
  {
   "cell_type": "markdown",
   "id": "61a44c9d",
   "metadata": {},
   "source": [
    "2. Create a 4 x 4 ndarray that only contains consecutive even numbers from 2 to 32 (inclusive) and use Boolean indexing to pick out the values that are within 1/2 standard deviations of the mean.\n"
   ]
  },
  {
   "cell_type": "code",
   "execution_count": 11,
   "id": "85deded8",
   "metadata": {},
   "outputs": [
    {
     "name": "stdout",
     "output_type": "stream",
     "text": [
      "Original array:\n",
      " [[ 2  4  6  8]\n",
      " [10 12 14 16]\n",
      " [18 20 22 24]\n",
      " [26 28 30 32]]\n",
      "\n",
      "Values within ±0.5 std of mean:\n",
      " [14 16 18 20]\n"
     ]
    }
   ],
   "source": [
    "import numpy as np\n",
    "\n",
    "arr = np.arange(2, 33, 2).reshape(4, 4)\n",
    "print(\"Original array:\\n\", arr)\n",
    "\n",
    "mean = np.mean(arr)\n",
    "std = np.std(arr)\n",
    "\n",
    "mask = np.abs(arr - mean) <= (0.5 * std)\n",
    "values = arr[mask]\n",
    "print()\n",
    "print(\"Values within ±0.5 std of mean:\\n\", values)\n"
   ]
  },
  {
   "cell_type": "markdown",
   "id": "4f71b77c",
   "metadata": {},
   "source": [
    "3. Create a 9x9 array that contains only zero of type int.\n"
   ]
  },
  {
   "cell_type": "code",
   "execution_count": 19,
   "id": "8fc39c5e",
   "metadata": {},
   "outputs": [
    {
     "name": "stdout",
     "output_type": "stream",
     "text": [
      "[[0. 0. 0. 0. 0. 0. 0. 0. 0.]\n",
      " [0. 0. 0. 0. 0. 0. 0. 0. 0.]\n",
      " [0. 0. 0. 0. 0. 0. 0. 0. 0.]\n",
      " [0. 0. 0. 0. 0. 0. 0. 0. 0.]\n",
      " [0. 0. 0. 0. 0. 0. 0. 0. 0.]\n",
      " [0. 0. 0. 0. 0. 0. 0. 0. 0.]\n",
      " [0. 0. 0. 0. 0. 0. 0. 0. 0.]\n",
      " [0. 0. 0. 0. 0. 0. 0. 0. 0.]\n",
      " [0. 0. 0. 0. 0. 0. 0. 0. 0.]]\n",
      "\n",
      " int64\n"
     ]
    }
   ],
   "source": [
    "arr = np.zeros((9,9))\n",
    "print(arr)\n",
    "arr = arr.astype(int)\n",
    "print(f'\\n {np.dtype(arr[0][0])}')"
   ]
  },
  {
   "cell_type": "markdown",
   "id": "e5f15db3",
   "metadata": {},
   "source": [
    "4. Ask the user for a number n. Then, use broadcasting to create a n x n ndarray that has its first column full of ones, its second column full of twos, its third column full of threes, etc…"
   ]
  },
  {
   "cell_type": "code",
   "execution_count": 22,
   "id": "8deab846",
   "metadata": {},
   "outputs": [
    {
     "name": "stdout",
     "output_type": "stream",
     "text": [
      "[[1 2 3 4 5]\n",
      " [1 2 3 4 5]\n",
      " [1 2 3 4 5]\n",
      " [1 2 3 4 5]\n",
      " [1 2 3 4 5]]\n"
     ]
    }
   ],
   "source": [
    "import numpy as np\n",
    "\n",
    "n = int(input())\n",
    "\n",
    "arr = np.arange(1, n+1)\n",
    "\n",
    "result = np.tile(arr, (n, 1))\n",
    "\n",
    "print(result)\n"
   ]
  },
  {
   "cell_type": "markdown",
   "id": "924365c9",
   "metadata": {},
   "source": [
    "5- https://codeforces.com/contest/381/problem/A"
   ]
  },
  {
   "cell_type": "code",
   "execution_count": null,
   "metadata": {},
   "outputs": [],
   "source": [
    "n = int(input())\n",
    "arr = list(map(int, input().split()))\n",
    "\n",
    "serage, dima = 0, 0\n",
    "beg, end = 0, n - 1\n",
    "\n",
    "while beg <= end:\n",
    "    if max(arr[beg], arr[end]) == arr[beg]:\n",
    "        serage += arr[beg]\n",
    "        beg += 1\n",
    "    else:\n",
    "        serage += arr[end]\n",
    "        end -= 1\n",
    "\n",
    "    if beg > end:\n",
    "        break\n",
    "\n",
    "    if max(arr[beg], arr[end]) == arr[beg]:\n",
    "        dima += arr[beg]\n",
    "        beg += 1\n",
    "    else:\n",
    "        dima += arr[end]\n",
    "        end -= 1\n",
    "\n",
    "print(serage, dima)\n"
   ]
  },
  {
   "cell_type": "markdown",
   "id": "4b2398ff",
   "metadata": {},
   "source": [
    "6- https://codeforces.com/contest/707/problem/A"
   ]
  },
  {
   "cell_type": "code",
   "execution_count": null,
   "metadata": {},
   "outputs": [],
   "source": [
    "n, m = map(int, input().split())\n",
    "\n",
    "arr = []\n",
    "for _ in range(n):\n",
    "    row = input().split()\n",
    "    arr.append(row)\n",
    "\n",
    "is_colored = False\n",
    "\n",
    "for i in range(n):\n",
    "    for j in range(m):\n",
    "        if arr[i][j] not in ['W', 'B', 'G']:\n",
    "            is_colored = True\n",
    "            break\n",
    "    if is_colored:\n",
    "        break\n",
    "\n",
    "if is_colored:\n",
    "    print(\"#Color\")\n",
    "else:\n",
    "    print(\"#Black&White\")\n"
   ]
  }
 ],
 "metadata": {
  "kernelspec": {
   "display_name": "Python 3",
   "language": "python",
   "name": "python3"
  },
  "language_info": {
   "codemirror_mode": {
    "name": "ipython",
    "version": 3
   },
   "file_extension": ".py",
   "mimetype": "text/x-python",
   "name": "python",
   "nbconvert_exporter": "python",
   "pygments_lexer": "ipython3",
   "version": "3.13.0"
  }
 },
 "nbformat": 4,
 "nbformat_minor": 5
}
