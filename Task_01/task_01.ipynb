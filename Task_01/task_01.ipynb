{
 "cells": [
  {
   "cell_type": "markdown",
   "id": "f63940af",
   "metadata": {},
   "source": [
    "<h4> \n",
    "Problem 1\n",
    "      Write a program that takes numbers as input from the user, terminates when the user enters -1, and prints the sum of all the entered numbers.\n",
    "Ex:\n",
    "Input: 4 8 15 16 23 42 -1\n",
    "Output: Sum: 108\n",
    "</h4>"
   ]
  },
  {
   "cell_type": "code",
   "execution_count": 8,
   "id": "ca908b75",
   "metadata": {},
   "outputs": [
    {
     "name": "stdout",
     "output_type": "stream",
     "text": [
      "Sum: 108\n"
     ]
    }
   ],
   "source": [
    "sum = 0\n",
    "\n",
    "while True:\n",
    "    try:\n",
    "        n = int(input('enter positive integer number: '))\n",
    "    except ValueError:\n",
    "        print('You must enter number')\n",
    "    if n==-1:\n",
    "        break\n",
    "    sum+=n\n",
    "\n",
    "\n",
    "print(f'Sum: {sum}')"
   ]
  },
  {
   "cell_type": "markdown",
   "id": "808c3cca",
   "metadata": {},
   "source": [
    "<h4>\n",
    "\n",
    "Problem 2\n",
    "Write a program that takes today’s date and prints the date of the next week.\n",
    "Ex:\n",
    "Input: \t  Day: 25 Month: 1 Year: 2025\n",
    "Output: Day: 1   Month: 2 Year: 2025\n",
    "</h4>"
   ]
  },
  {
   "cell_type": "code",
   "execution_count": 11,
   "id": "f689b0bf",
   "metadata": {},
   "outputs": [
    {
     "name": "stdout",
     "output_type": "stream",
     "text": [
      "Day: 1, Month 2, Year 2025\n"
     ]
    }
   ],
   "source": [
    "month_days = {\n",
    "    1: 31,\n",
    "    2: 28,\n",
    "    3: 31,\n",
    "    4: 30,\n",
    "    5: 31,\n",
    "    6: 30,\n",
    "    7: 31,\n",
    "    8: 31,\n",
    "    9: 30,\n",
    "    10: 31,\n",
    "    11: 30,\n",
    "    12: 31\n",
    "}\n",
    "\n",
    "day,month,year = int(input('Day: ')), int(input('Month: ')), int(input('Year'))\n",
    "\n",
    "sub = (day+7) - month_days[month]\n",
    "\n",
    "if sub > 0:\n",
    "    day = sub\n",
    "    if month==12:\n",
    "        month=1\n",
    "        year+=1\n",
    "\n",
    "    else:\n",
    "        month+=1\n",
    "else:\n",
    "    day = day+7\n",
    "\n",
    "print(f'Day: {day}, Month {month}, Year {year}')"
   ]
  },
  {
   "cell_type": "markdown",
   "id": "77510505",
   "metadata": {},
   "source": [
    "<h4>\n",
    "Problem 3\n",
    "Write a Python program that takes a positive integer as input and prints the sum of its digits.\n",
    "Ex:\n",
    "Input: 123\n",
    "Output: The sum of digits is 6 (1 + 2 + 3).\n",
    "</h4>"
   ]
  },
  {
   "cell_type": "code",
   "execution_count": 14,
   "id": "0552f25e",
   "metadata": {},
   "outputs": [
    {
     "name": "stdout",
     "output_type": "stream",
     "text": [
      "Sum: 6\n"
     ]
    }
   ],
   "source": [
    "try:\n",
    "    num = int(input('enter positive integer number: '))\n",
    "except ValueError:\n",
    "    print('You must enter number')\n",
    "\n",
    "sum_=0\n",
    "\n",
    "for n in str(num):\n",
    "    sum_+=int(n)\n",
    "\n",
    "print(f'Sum: {sum_}')"
   ]
  },
  {
   "cell_type": "markdown",
   "id": "97ad7ec3",
   "metadata": {},
   "source": [
    "<h4>\n",
    "Problem 4\n",
    "Write a Python program that takes a sentence as input and prints the sentence with each word reversed.\n",
    "Ex:\n",
    "Input: \"Hello World\"\n",
    "Output: \"olleH dlroW\"\n",
    "\n",
    "\n",
    "</h4>"
   ]
  },
  {
   "cell_type": "code",
   "execution_count": 17,
   "id": "c70f9252",
   "metadata": {},
   "outputs": [
    {
     "name": "stdout",
     "output_type": "stream",
     "text": [
      "dlroW wolleH\n"
     ]
    }
   ],
   "source": [
    "sentence = input('enter the Sentence: ')\n",
    "\n",
    "sentence = sentence[::-1]\n",
    "print(sentence)"
   ]
  },
  {
   "cell_type": "markdown",
   "id": "82b6fe45",
   "metadata": {},
   "source": [
    "<h4>\n",
    "\n",
    "Problem 5\n",
    "Write a Python program that takes a positive integer as input and prints all odd numbers from 1 to that integer.\n",
    "Ex:\n",
    "Input: 10\n",
    "Output: 1 3 5 7 9\n",
    "\n",
    "</h4>"
   ]
  },
  {
   "cell_type": "code",
   "execution_count": 21,
   "id": "eb998554",
   "metadata": {},
   "outputs": [
    {
     "name": "stdout",
     "output_type": "stream",
     "text": [
      "1 3 5 7 9 "
     ]
    }
   ],
   "source": [
    "\n",
    "try:\n",
    "    n = int(input('enter positive integer number: '))\n",
    "except ValueError:\n",
    "    print('You must enter number')\n",
    "\n",
    "\n",
    "if n%2==1:\n",
    "    n+=1\n",
    "\n",
    "for i in range(1,n,2):\n",
    "    print(i, end=' ')\n"
   ]
  },
  {
   "cell_type": "markdown",
   "id": "6a0cec0e",
   "metadata": {},
   "source": [
    "<h4>\n",
    "Problem 6\n",
    "     Write a Python program that takes a positive integer as input and checks whether it is a perfect number or not. A perfect number is a positive integer that is equal to the sum of its proper divisors, excluding itself.\n",
    "Ex:\n",
    "Input: 28\n",
    "Output: 28 is a perfect number.\n",
    "\n",
    "</h4>"
   ]
  },
  {
   "cell_type": "code",
   "execution_count": 6,
   "id": "ea31b708",
   "metadata": {},
   "outputs": [
    {
     "name": "stdout",
     "output_type": "stream",
     "text": [
      "Perfect\n"
     ]
    }
   ],
   "source": [
    "\n",
    "def sum_devisors(n):\n",
    "    sum_dev =0\n",
    "    for i in range(1,n):\n",
    "        if not n%i:\n",
    "            sum_dev+=i\n",
    "\n",
    "    return sum_dev\n",
    "\n",
    "try:\n",
    "    n = int(input('enter positive integer number: '))\n",
    "    if n<0:\n",
    "        raise ValueError('The Number must be positive')\n",
    "except ValueError:\n",
    "    print('You must enter number')\n",
    "\n",
    "if sum_devisors(n) == n:\n",
    "    print('Perfect')\n",
    "else:\n",
    "    print(\"Not Perfect\")\n"
   ]
  },
  {
   "cell_type": "markdown",
   "id": "b2f3caaa",
   "metadata": {},
   "source": [
    "<h4>\n",
    "\n",
    "Problem 7\n",
    "      Write a Python program that takes a positive integer as input and finds its prime factors.\n",
    "Input: 36\n",
    "Output: Prime Factors: 2, 3\n",
    "</h4>"
   ]
  },
  {
   "cell_type": "code",
   "execution_count": null,
   "id": "4afaf769",
   "metadata": {},
   "outputs": [],
   "source": [
    "import numpy as np\n",
    "\n",
    "def is_prime(n):\n",
    "    if n==2:\n",
    "        return True\n",
    "    if n%2==0:\n",
    "        return False\n",
    "    if n<=1:\n",
    "        return False\n",
    "    for i in range(3, np.sqrt(n), 2):\n",
    "        if not n%2:\n",
    "            return False\n",
    "    return True\n",
    "\n",
    "# lst = []\n",
    "# def get_divisors(n):\n",
    "\n"
   ]
  },
  {
   "cell_type": "markdown",
   "id": "8ae4fa3e",
   "metadata": {},
   "source": [
    "<h4>\n",
    "\n",
    "Problem 8\n",
    "      Write a Python program that checks if a given word is a palindrome. A palindrome is a word that reads the same backward as forward.\n",
    "Input: \"level\"\n",
    "Output: \"The word 'level' is a palindrome.\"\n",
    "\n",
    "Input: \"python\"\n",
    "Output: \"The word 'python' is not a palindrome.\"\n",
    "\n",
    "</h4>"
   ]
  },
  {
   "cell_type": "code",
   "execution_count": null,
   "id": "31a1ab15",
   "metadata": {},
   "outputs": [],
   "source": []
  }
 ],
 "metadata": {
  "kernelspec": {
   "display_name": "Python 3",
   "language": "python",
   "name": "python3"
  },
  "language_info": {
   "codemirror_mode": {
    "name": "ipython",
    "version": 3
   },
   "file_extension": ".py",
   "mimetype": "text/x-python",
   "name": "python",
   "nbconvert_exporter": "python",
   "pygments_lexer": "ipython3",
   "version": "3.13.0"
  }
 },
 "nbformat": 4,
 "nbformat_minor": 5
}
