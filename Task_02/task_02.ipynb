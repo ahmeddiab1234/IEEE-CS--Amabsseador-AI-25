{
 "cells": [
  {
   "cell_type": "code",
   "execution_count": null,
   "id": "a450cd83",
   "metadata": {},
   "outputs": [
    {
     "name": "stdout",
     "output_type": "stream",
     "text": [
      "Berry\n",
      "Harry\n"
     ]
    },
    {
     "data": {
      "text/plain": [
       "'\\n5\\nHarry\\n37.21\\nBerry\\n37.21\\nTina\\n37.2\\nAkriti\\n41\\nHarsh\\n39\\n\\nBerry\\nHarry\\n'"
      ]
     },
     "execution_count": 3,
     "metadata": {},
     "output_type": "execute_result"
    }
   ],
   "source": [
    "# problem 1\n",
    "# https://www.hackerrank.com/challenges/nested-list/problem?isFullScreen=true\n",
    "\n",
    "\n",
    "\n",
    "if __name__ == '__main__':\n",
    "    grade = {}\n",
    "    for _ in range(int(input())):\n",
    "        name = input()\n",
    "        score = float(input())\n",
    "        grade[name] = score\n",
    "\n",
    "    sorted_grades = dict(sorted(grade.items(), key=lambda x: x[1]))\n",
    "    lowest_score = next(iter(sorted_grades.values()))\n",
    "\n",
    "    res = []\n",
    "    for name, score in sorted_grades.items():\n",
    "        if score > lowest_score:\n",
    "            if not res:\n",
    "                res.append((name, score)) \n",
    "            elif score == res[0][1]:\n",
    "                res.append((name, score))\n",
    "\n",
    "    for name, _ in sorted(res):\n",
    "        print(name)\n",
    "\n"
   ]
  },
  {
   "cell_type": "code",
   "execution_count": null,
   "id": "ba3d627c",
   "metadata": {},
   "outputs": [
    {
     "name": "stdout",
     "output_type": "stream",
     "text": [
      "5\n"
     ]
    },
    {
     "data": {
      "text/plain": [
       "' \\n5\\n2 3 6 6 5\\nSample Output 0\\n\\n5\\n'"
      ]
     },
     "execution_count": 6,
     "metadata": {},
     "output_type": "execute_result"
    }
   ],
   "source": [
    "# problem 2\n",
    "# https://www.hackerrank.com/challenges/find-second-maximum-number-in-a-list/problem?isFullScreen=true\n",
    "\n",
    "\n",
    "if __name__ == '__main__':\n",
    "    n = int(input())\n",
    "    arr = map(int, input().split())\n",
    "\n",
    "    arr = list(arr)\n",
    "    arr = sorted(arr, reverse=True)\n",
    "    max_score = arr[0]\n",
    "    res=-1\n",
    "    for i in arr:\n",
    "        if i<max_score:\n",
    "            res=i\n",
    "            break\n",
    "    print(res)\n"
   ]
  },
  {
   "cell_type": "code",
   "execution_count": null,
   "metadata": {},
   "outputs": [],
   "source": [
    "# problem 3\n",
    "# https://www.hackerrank.com/challenges/python-lists/problem?isFullScreen=true\n",
    "\n",
    "\n",
    "if __name__ == '__main__':\n",
    "    N = int(input())\n",
    "    out = []\n",
    "\n",
    "    for _ in range(N):\n",
    "        lst = input().split()\n",
    "        query = lst[0]\n",
    "\n",
    "        if query == \"insert\":\n",
    "            out.insert(int(lst[1]), int(lst[2]))\n",
    "        elif query == \"print\":\n",
    "            print(out)\n",
    "        elif query == \"remove\":\n",
    "            out.remove(int(lst[1]))\n",
    "        elif query == \"append\":\n",
    "            out.append(int(lst[1]))\n",
    "        elif query == \"sort\":\n",
    "            out.sort()\n",
    "        elif query == \"pop\":\n",
    "            out.pop()\n",
    "        elif query == \"reverse\":\n",
    "            out.reverse()\n",
    "\n",
    "\n",
    "\n"
   ]
  },
  {
   "cell_type": "markdown",
   "id": "4b749894",
   "metadata": {},
   "source": [
    "<h4>\n",
    "Problem 4\n",
    "Create a dictionary representing a library catalogue. Each book should have a title, author, and publication year.\n",
    "\n",
    "</h4>"
   ]
  },
  {
   "cell_type": "code",
   "execution_count": 17,
   "metadata": {},
   "outputs": [
    {
     "name": "stdout",
     "output_type": "stream",
     "text": [
      "Bood Title:  harry potter\n",
      "Author:  J. K. Rowling\n",
      "Publication year:  2007\n",
      "\n",
      "Bood Title:  Rich Dad & Poor Dad\n",
      "Author:  Robert Kiyosaki\n",
      "Publication year:  1997\n",
      "\n"
     ]
    }
   ],
   "source": [
    "library = {\"title\":[], \"author\":[], \"publication\":[]}\n",
    "\n",
    "library[\"title\"].append(\"harry potter\")\n",
    "library[\"author\"].append(\"J. K. Rowling\")\n",
    "library[\"publication\"].append(2007)\n",
    "\n",
    "library[\"title\"].append(\"Rich Dad & Poor Dad\")\n",
    "library[\"author\"].append(\"Robert Kiyosaki\")\n",
    "library[\"publication\"].append(1997)\n",
    "\n",
    "for i in range(len(library[\"title\"])):\n",
    "    print(f\"Bood Title:  {library['title'][i]}\")\n",
    "    print(f\"Author:  {library['author'][i]}\")\n",
    "    print(f\"Publication year:  {library['publication'][i]}\")\n",
    "    print()"
   ]
  },
  {
   "cell_type": "markdown",
   "id": "9552a34c",
   "metadata": {},
   "source": [
    "<h4>\n",
    "Problem 5\n",
    "Create a program that reads a text file, counts the occurrences of each word, and prints the results.\n",
    "\n",
    "</h4>"
   ]
  },
  {
   "cell_type": "code",
   "execution_count": 19,
   "metadata": {},
   "outputs": [
    {
     "name": "stdout",
     "output_type": "stream",
     "text": [
      "8\n"
     ]
    }
   ],
   "source": [
    "keyword = 'story'\n",
    "occ=0\n",
    "\n",
    "with open('text.txt','r') as file:\n",
    "    for line in file:\n",
    "        if keyword.lower() in line.lower():\n",
    "            occ+=1\n",
    "print(occ)\n"
   ]
  },
  {
   "cell_type": "markdown",
   "id": "40cc5662",
   "metadata": {},
   "source": [
    "<h4>\n",
    "Problem 6\n",
    "Generate a random password of 8 characters, including a mix of uppercase letters, lowercase letters, and numbers.\n",
    "\n",
    "</h4>"
   ]
  },
  {
   "cell_type": "code",
   "execution_count": 35,
   "id": "c4490728",
   "metadata": {},
   "outputs": [
    {
     "name": "stdout",
     "output_type": "stream",
     "text": [
      "s4s6PoVK\n"
     ]
    }
   ],
   "source": [
    "import random\n",
    "import string\n",
    "\n",
    "upp = random.choices(string.ascii_uppercase,k=3)\n",
    "low = random.choices(string.ascii_lowercase,k=3)\n",
    "\n",
    "num = random.choices(string.digits,k=2)\n",
    "\n",
    "password = upp+low+num\n",
    "random.shuffle(password)\n",
    "password = ''.join(password)\n",
    "print(password)\n"
   ]
  },
  {
   "cell_type": "markdown",
   "id": "6046e862",
   "metadata": {},
   "source": [
    "<h4>\n",
    "Problem 7\n",
    "Write a function that takes two sets as input and returns a new set containing the common elements.\n",
    "\n",
    "</h4>"
   ]
  },
  {
   "cell_type": "code",
   "execution_count": 37,
   "id": "17563260",
   "metadata": {},
   "outputs": [
    {
     "name": "stdout",
     "output_type": "stream",
     "text": [
      "{2, 4, 6, 8, 10}\n"
     ]
    }
   ],
   "source": [
    "set1 = {1,2,3,4,5,6,7,8,9,10}\n",
    "set2 = {2,4,6,8,10,12,14}\n",
    "\n",
    "print(set1&set2)"
   ]
  },
  {
   "cell_type": "markdown",
   "id": "afa9d549",
   "metadata": {},
   "source": [
    "<h4>\n",
    "Problem 8\n",
    "Implement a guessing number game where the computer generates a random number between 1 and 100, and the user must guess the number,the user has 5 tries and the game can tell if the number is lower or higher .\n",
    "\n",
    "</h4>"
   ]
  },
  {
   "cell_type": "code",
   "execution_count": null,
   "id": "315101ce",
   "metadata": {},
   "outputs": [
    {
     "name": "stdout",
     "output_type": "stream",
     "text": [
      "the number is Higure\n",
      "the number is Lower\n",
      "the number is Lower\n",
      "the number is Lower\n",
      "the number is Lower\n"
     ]
    }
   ],
   "source": [
    "import random \n",
    "\n",
    "num = random.randint(1,100)\n",
    "\n",
    "for _ in range(5):\n",
    "    guess = int(input('Enter Guess'))\n",
    "    if guess==num:\n",
    "        print('right guess')\n",
    "        break\n",
    "    elif num>guess:\n",
    "        print('the number is Higure')\n",
    "    \n",
    "    else:\n",
    "        print('the number is Lower')\n",
    "\n"
   ]
  }
 ],
 "metadata": {
  "kernelspec": {
   "display_name": "Python 3",
   "language": "python",
   "name": "python3"
  },
  "language_info": {
   "codemirror_mode": {
    "name": "ipython",
    "version": 3
   },
   "file_extension": ".py",
   "mimetype": "text/x-python",
   "name": "python",
   "nbconvert_exporter": "python",
   "pygments_lexer": "ipython3",
   "version": "3.13.0"
  }
 },
 "nbformat": 4,
 "nbformat_minor": 5
}
